{
 "cells": [
  {
   "cell_type": "markdown",
   "id": "64a690cc",
   "metadata": {},
   "source": [
    "Python Code for plotting file.csv from buck converter simulation."
   ]
  },
  {
   "cell_type": "code",
   "execution_count": null,
   "id": "53ceefdc",
   "metadata": {},
   "outputs": [],
   "source": [
    "#Init\n",
    "import pandas as pd\n",
    "import matplotlib.pyplot as plt\n",
    "import os"
   ]
  },
  {
   "cell_type": "code",
   "execution_count": null,
   "id": "4b4530ad",
   "metadata": {},
   "outputs": [],
   "source": [
    "# Nama file CSV (ubah jika nama file berbeda)\n",
    "filename = \"BuckConverter.csv\""
   ]
  },
  {
   "cell_type": "code",
   "execution_count": null,
   "id": "4b8cbf1d",
   "metadata": {},
   "outputs": [],
   "source": [
    "# Cek apakah file ada di direktori kerja saat ini\n",
    "if not os.path.exists(filename):\n",
    "    print(f\"File '{filename}' tidak ditemukan di direktori saat ini: {os.getcwd()}\")\n",
    "else:\n",
    "    # Baca file CSV\n",
    "    df = pd.read_csv(filename, delimiter='\\t')  # Gunakan '\\t' untuk file LTspice default\n",
    "\n",
    "    # Tampilkan nama-nama kolom\n",
    "    print(\"Kolom yang tersedia:\", list(df.columns))\n",
    "\n",
    "    # Asumsikan kolom pertama adalah waktu\n",
    "    waktu = df.iloc[:, 0]\n",
    "    # Plot semua sinyal selain waktu\n",
    "    plt.figure(figsize=(10, 6))\n",
    "    for col in df.columns[1:]:\n",
    "        plt.plot(waktu, df[col], label=col)\n",
    "\n",
    "    plt.title(\"Hasil Simulasi LTspice\")\n",
    "    plt.xlabel(\"Waktu (s)\")\n",
    "    plt.ylabel(\"Nilai\")\n",
    "    plt.legend()\n",
    "    plt.grid(True)\n",
    "    plt.tight_layout()\n",
    "    plt.show()\n"
   ]
  }
 ],
 "metadata": {
  "language_info": {
   "name": "python"
  }
 },
 "nbformat": 4,
 "nbformat_minor": 5
}
